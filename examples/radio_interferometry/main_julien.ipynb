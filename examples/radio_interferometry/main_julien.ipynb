{
 "cells": [
  {
   "metadata": {
    "ExecuteTime": {
     "end_time": "2024-07-16T15:45:44.785220Z",
     "start_time": "2024-07-16T15:45:44.782042Z"
    }
   },
   "cell_type": "code",
   "source": [
    "from examples.radio_interferometry.functions import (\n",
    "    dp3, imaging,\n",
    ")\n",
    "from examples.radio_interferometry.utils import filter_io_params\n",
    "from flexecutor.storage.storage import FlexInput, FlexOutput, StrategyEnum\n",
    "from flexecutor.utils.utils import flexorchestrator\n",
    "from flexecutor.workflow.stage import Stage"
   ],
   "id": "2ebe017153e73c98",
   "outputs": [],
   "execution_count": 10
  },
  {
   "metadata": {
    "ExecuteTime": {
     "end_time": "2024-07-16T15:45:00.358237Z",
     "start_time": "2024-07-16T15:45:00.354373Z"
    }
   },
   "cell_type": "code",
   "source": [
    "# Initialization of the FlexOrchestrator\n",
    "# TODO: replace by more elegant solution\n",
    "@flexorchestrator(bucket=\"test-bucket\")\n",
    "def init_flex():\n",
    "    pass\n",
    "\n",
    "\n",
    "init_flex()"
   ],
   "id": "a7548762c2eee239",
   "outputs": [],
   "execution_count": 2
  },
  {
   "metadata": {
    "ExecuteTime": {
     "end_time": "2024-07-16T15:45:06.382046Z",
     "start_time": "2024-07-16T15:45:00.361335Z"
    }
   },
   "cell_type": "code",
   "source": [
    "cal_rebinning_parameters = {\n",
    "    \"msin\": FlexInput(prefix=\"partitions-CAL\"),\n",
    "    \"steps\": \"[aoflag, avg, count]\",\n",
    "    \"aoflag.type\": \"aoflagger\",\n",
    "    \"aoflag.strategy\": FlexInput(\n",
    "        prefix=\"parameters/rebinning\",\n",
    "        custom_input_id=\"lua\",\n",
    "        strategy=StrategyEnum.BROADCAST,\n",
    "    ),\n",
    "    \"avg.type\": \"averager\",\n",
    "    \"avg.freqstep\": 5,\n",
    "    \"avg.timestep\": 2,\n",
    "    \"msout\": FlexOutput(\n",
    "        prefix=\"CAL/rebinning_out/ms\",\n",
    "        suffix=\".ms.zip\",\n",
    "    ),\n",
    "    \"numthreads\": 4,\n",
    "    \"log_output\": FlexOutput(\n",
    "        prefix=\"CAL/rebinning_out/logs\",\n",
    "        suffix=\".log\",\n",
    "    ),\n",
    "}\n",
    "\n",
    "cal_rebinning_stage = Stage(\n",
    "    stage_id=\"CAL-rebinning\",\n",
    "    func=dp3,\n",
    "    inputs=filter_io_params(cal_rebinning_parameters, FlexInput),\n",
    "    outputs=filter_io_params(cal_rebinning_parameters, FlexOutput),\n",
    "    params={\"parameters\": cal_rebinning_parameters, \"dp3_types\": \"rebinning\"},\n",
    ")\n",
    "\n",
    "print(cal_rebinning_stage.execute().get_timings())"
   ],
   "id": "1ea9cf8bd482ff12",
   "outputs": [
    {
     "name": "stderr",
     "output_type": "stream",
     "text": [
      "INFO:lithops.config:Lithops v3.4.1 - Python3.10\n",
      "INFO:lithops.storage.backends.minio.minio:MinIO client created - Endpoint: http://172.17.0.1:9000\n",
      "INFO:lithops.localhost.v2.localhost:Localhost compute v2 client created\n",
      "INFO:flexecutor.workflow.executor:Executing DAG single-stage-dag\n",
      "INFO:flexecutor.workflow.executor:DAG single-stage-dag has 1 final stages\n",
      "2024-07-16 17:45:00 [INFO] Submitting stage CAL-rebinning\n",
      "INFO:lithops.storage.backends.minio.minio:MinIO client created - Endpoint: http://172.17.0.1:9000\n",
      "INFO:lithops.storage.backends.minio.minio:MinIO client created - Endpoint: http://172.17.0.1:9000\n",
      "INFO:lithops.invokers:ExecutorID 4f0cbf-0 | JobID M000 - Selected Runtime: manriurv/astronomics-k8s:310 \n",
      "INFO:lithops.invokers:ExecutorID 4f0cbf-0 | JobID M000 - Starting function invocation: dp3() - Total: 1 activations\n",
      "INFO:lithops.invokers:ExecutorID 4f0cbf-0 | JobID M000 - View execution logs at /tmp/lithops-manri-urv/logs/4f0cbf-0-M000.log\n",
      "INFO:lithops.wait:ExecutorID 4f0cbf-0 - Waiting for 1 function activations to complete\n"
     ]
    },
    {
     "data": {
      "text/plain": [
       "    0%|          | 0/1  "
      ],
      "application/vnd.jupyter.widget-view+json": {
       "version_major": 2,
       "version_minor": 0,
       "model_id": "3ee88d0371b04a899be9680d0f4182d0"
      }
     },
     "metadata": {},
     "output_type": "display_data"
    },
    {
     "name": "stderr",
     "output_type": "stream",
     "text": [
      "ERROR:lithops.localhost.v2.localhost:Task process 4f0cbf-0-M000-00000 failed with return code 137\n",
      "INFO:lithops.executors:ExecutorID 4f0cbf-0 - Cleaning temporary data\n",
      "INFO:lithops.executors:ExecutorID 4f0cbf-0 - Getting results from 1 function activations\n"
     ]
    },
    {
     "name": "stdout",
     "output_type": "stream",
     "text": [
      "[FunctionTimes(read=0.2468562126159668, compute=0.8746955394744873, write=0.07173609733581543, cold_start=0.9145104885101318, total=0.39776261647542316)]\n"
     ]
    }
   ],
   "execution_count": 3
  },
  {
   "metadata": {
    "ExecuteTime": {
     "end_time": "2024-07-16T15:45:13.149359Z",
     "start_time": "2024-07-16T15:45:06.384108Z"
    }
   },
   "cell_type": "code",
   "source": [
    "cal_calibration_params = {\n",
    "    \"msin\": FlexInput(prefix=\"CAL/rebinning_out/ms\"),\n",
    "    \"msin.datacolumn\": \"DATA\",\n",
    "    \"msout\": \".\",\n",
    "    \"steps\": \"[cal]\",\n",
    "    \"cal.type\": \"gaincal\",\n",
    "    \"cal.caltype\": \"diagonal\",\n",
    "    \"cal.sourcedb\": FlexInput(\n",
    "        prefix=\"parameters/calibration/step2a\",\n",
    "        custom_input_id=\"step2a\",\n",
    "        strategy=StrategyEnum.BROADCAST,\n",
    "    ),\n",
    "    \"cal.parmdb\": FlexOutput(\n",
    "        prefix=\"CAL/calibration_out/h5\",\n",
    "        suffix=\".h5\",\n",
    "    ),\n",
    "    \"cal.solint\": 0,  # means 1 solution for all time steps\n",
    "    \"cal.nchan\": 1,  # means 1 solution per channel\n",
    "    \"cal.maxiter\": 50,\n",
    "    \"cal.uvlambdamin\": 5,\n",
    "    \"cal.smoothnessconstraint\": 2e6,\n",
    "    \"numthreads\": 4,\n",
    "    \"log_output\": FlexOutput(\n",
    "        prefix=\"CAL/calibration_out/logs\",\n",
    "        suffix=\".log\",\n",
    "    ),\n",
    "}\n",
    "\n",
    "cal_calibration_stage = Stage(\n",
    "    stage_id=\"CAL-calibration\",\n",
    "    func=dp3,\n",
    "    inputs=filter_io_params(cal_calibration_params, FlexInput),\n",
    "    outputs=filter_io_params(cal_calibration_params, FlexOutput),\n",
    "    params={\n",
    "        \"parameters\": cal_calibration_params,\n",
    "        \"dp3_types\": \"calibration\",\n",
    "    },\n",
    ")\n",
    "\n",
    "print(cal_calibration_stage.execute().get_timings())"
   ],
   "id": "7f7c74601f67a83a",
   "outputs": [
    {
     "name": "stderr",
     "output_type": "stream",
     "text": [
      "INFO:lithops.config:Lithops v3.4.1 - Python3.10\n",
      "INFO:lithops.storage.backends.minio.minio:MinIO client created - Endpoint: http://172.17.0.1:9000\n",
      "INFO:lithops.localhost.v2.localhost:Localhost compute v2 client created\n",
      "INFO:flexecutor.workflow.executor:Executing DAG single-stage-dag\n",
      "INFO:flexecutor.workflow.executor:DAG single-stage-dag has 1 final stages\n",
      "2024-07-16 17:45:06 [INFO] Submitting stage CAL-calibration\n",
      "INFO:lithops.storage.backends.minio.minio:MinIO client created - Endpoint: http://172.17.0.1:9000\n",
      "INFO:lithops.storage.backends.minio.minio:MinIO client created - Endpoint: http://172.17.0.1:9000\n",
      "INFO:lithops.invokers:ExecutorID 4f0cbf-1 | JobID M000 - Selected Runtime: manriurv/astronomics-k8s:310 \n",
      "INFO:lithops.invokers:ExecutorID 4f0cbf-1 | JobID M000 - Starting function invocation: dp3() - Total: 1 activations\n",
      "INFO:lithops.invokers:ExecutorID 4f0cbf-1 | JobID M000 - View execution logs at /tmp/lithops-manri-urv/logs/4f0cbf-1-M000.log\n",
      "INFO:lithops.wait:ExecutorID 4f0cbf-1 - Waiting for 1 function activations to complete\n"
     ]
    },
    {
     "data": {
      "text/plain": [
       "    0%|          | 0/1  "
      ],
      "application/vnd.jupyter.widget-view+json": {
       "version_major": 2,
       "version_minor": 0,
       "model_id": "8e25170f1e684d3cb0f20de40b44ff53"
      }
     },
     "metadata": {},
     "output_type": "display_data"
    },
    {
     "name": "stderr",
     "output_type": "stream",
     "text": [
      "ERROR:lithops.localhost.v2.localhost:Task process 4f0cbf-1-M000-00000 failed with return code 137\n",
      "INFO:lithops.executors:ExecutorID 4f0cbf-1 - Cleaning temporary data\n",
      "INFO:lithops.executors:ExecutorID 4f0cbf-1 - Getting results from 1 function activations\n"
     ]
    },
    {
     "name": "stdout",
     "output_type": "stream",
     "text": [
      "[FunctionTimes(read=0.09463763236999512, compute=0.4650692939758301, write=0.013876914978027344, cold_start=0.7987880706787109, total=0.19119461377461752)]\n"
     ]
    }
   ],
   "execution_count": 4
  },
  {
   "metadata": {
    "ExecuteTime": {
     "end_time": "2024-07-16T15:45:19.835425Z",
     "start_time": "2024-07-16T15:45:13.150596Z"
    }
   },
   "cell_type": "code",
   "source": [
    "target_rebinning_params = {\n",
    "    \"msin\": FlexInput(prefix=\"partitions-TAR\"),\n",
    "    \"steps\": \"[aoflag, avg, count]\",\n",
    "    \"aoflag.type\": \"aoflagger\",\n",
    "    \"aoflag.strategy\": FlexInput(\n",
    "        prefix=\"parameters/rebinning\",\n",
    "        custom_input_id=\"lua\",\n",
    "        strategy=StrategyEnum.BROADCAST,\n",
    "    ),\n",
    "    \"avg.type\": \"averager\",\n",
    "    \"avg.freqstep\": 5,  # averaging 5 channels\n",
    "    \"avg.timestep\": 2,  # averaging 2 times samples\n",
    "    \"msout\": FlexOutput(\n",
    "        prefix=\"TAR/rebinning_out/ms\",\n",
    "        suffix=\".ms.zip\",\n",
    "    ),\n",
    "    \"numthreads\": 4,\n",
    "    \"log_output\": FlexOutput(\n",
    "        prefix=\"TAR/rebinning_out/logs\",\n",
    "        suffix=\".log\",\n",
    "    ),\n",
    "}\n",
    "\n",
    "target_rebinning_stage = Stage(\n",
    "    stage_id=\"TARGET-rebinning\",\n",
    "    func=dp3,\n",
    "    inputs=filter_io_params(target_rebinning_params, FlexInput),\n",
    "    outputs=filter_io_params(target_rebinning_params, FlexOutput),\n",
    "    params={\n",
    "        \"parameters\": target_rebinning_params,\n",
    "        \"dp3_types\": \"rebinning\",\n",
    "    },\n",
    ")\n",
    "\n",
    "print(target_rebinning_stage.execute().get_timings())"
   ],
   "id": "6a1b0ff413624f10",
   "outputs": [
    {
     "name": "stderr",
     "output_type": "stream",
     "text": [
      "INFO:lithops.config:Lithops v3.4.1 - Python3.10\n",
      "INFO:lithops.storage.backends.minio.minio:MinIO client created - Endpoint: http://172.17.0.1:9000\n",
      "INFO:lithops.localhost.v2.localhost:Localhost compute v2 client created\n",
      "INFO:flexecutor.workflow.executor:Executing DAG single-stage-dag\n",
      "INFO:flexecutor.workflow.executor:DAG single-stage-dag has 1 final stages\n",
      "2024-07-16 17:45:13 [INFO] Submitting stage TARGET-rebinning\n",
      "INFO:lithops.storage.backends.minio.minio:MinIO client created - Endpoint: http://172.17.0.1:9000\n",
      "INFO:lithops.storage.backends.minio.minio:MinIO client created - Endpoint: http://172.17.0.1:9000\n",
      "INFO:lithops.invokers:ExecutorID 4f0cbf-2 | JobID M000 - Selected Runtime: manriurv/astronomics-k8s:310 \n",
      "INFO:lithops.invokers:ExecutorID 4f0cbf-2 | JobID M000 - Starting function invocation: dp3() - Total: 1 activations\n",
      "INFO:lithops.invokers:ExecutorID 4f0cbf-2 | JobID M000 - View execution logs at /tmp/lithops-manri-urv/logs/4f0cbf-2-M000.log\n",
      "INFO:lithops.wait:ExecutorID 4f0cbf-2 - Waiting for 1 function activations to complete\n"
     ]
    },
    {
     "data": {
      "text/plain": [
       "    0%|          | 0/1  "
      ],
      "application/vnd.jupyter.widget-view+json": {
       "version_major": 2,
       "version_minor": 0,
       "model_id": "86674787d0564ab093c122611a14c425"
      }
     },
     "metadata": {},
     "output_type": "display_data"
    },
    {
     "name": "stderr",
     "output_type": "stream",
     "text": [
      "ERROR:lithops.localhost.v2.localhost:Task process 4f0cbf-2-M000-00000 failed with return code 137\n",
      "INFO:lithops.executors:ExecutorID 4f0cbf-2 - Cleaning temporary data\n",
      "INFO:lithops.executors:ExecutorID 4f0cbf-2 - Getting results from 1 function activations\n"
     ]
    },
    {
     "name": "stdout",
     "output_type": "stream",
     "text": [
      "[FunctionTimes(read=0.1855311393737793, compute=0.9087080955505371, write=0.07149243354797363, cold_start=0.756340742111206, total=0.3885772228240967)]\n"
     ]
    }
   ],
   "execution_count": 5
  },
  {
   "metadata": {
    "ExecuteTime": {
     "end_time": "2024-07-16T15:45:30.632922Z",
     "start_time": "2024-07-16T15:45:24.949635Z"
    }
   },
   "cell_type": "code",
   "source": [
    "target_apply_calibration_params = {\n",
    "    \"msin\": FlexInput(prefix=\"TAR/rebinning_out/ms\"),\n",
    "    \"msin.datacolumn\": \"DATA\",\n",
    "    \"msout\": FlexOutput(\n",
    "        prefix=\"TAR/applycal_out/ms\",\n",
    "        suffix=\".ms.zip\",\n",
    "    ),\n",
    "    \"msout.datacolumn\": \"CORRECTED_DATA\",\n",
    "    \"steps\": \"[apply]\",\n",
    "    \"apply.type\": \"applycal\",\n",
    "    \"apply.steps\": \"[apply_amp,apply_phase]\",\n",
    "    \"apply.apply_amp.correction\": \"amplitude000\",\n",
    "    \"apply.apply_phase.correction\": \"phase000\",\n",
    "    \"apply.direction\": \"[Main]\",\n",
    "    \"apply.parmdb\": FlexInput(prefix=\"CAL/calibration_out/h5\"),\n",
    "    \"log_output\": FlexOutput(\n",
    "        prefix=\"TAR/applycal_out/logs\",\n",
    "        suffix=\".log\",\n",
    "    ),\n",
    "}\n",
    "\n",
    "\n",
    "target_apply_calibration_stage = Stage(\n",
    "    stage_id=\"TARGET-apply-calibration\",\n",
    "    func=dp3,\n",
    "    inputs=filter_io_params(target_apply_calibration_params, FlexInput),\n",
    "    outputs=filter_io_params(target_apply_calibration_params, FlexOutput),\n",
    "    params={\n",
    "        \"parameters\": target_apply_calibration_params,\n",
    "        \"dp3_types\": \"apply_calibration\",\n",
    "    },\n",
    ")\n",
    "\n",
    "print(target_apply_calibration_stage.execute().get_timings())"
   ],
   "id": "1530e442ef4b335b",
   "outputs": [
    {
     "name": "stderr",
     "output_type": "stream",
     "text": [
      "INFO:lithops.config:Lithops v3.4.1 - Python3.10\n",
      "INFO:lithops.storage.backends.minio.minio:MinIO client created - Endpoint: http://172.17.0.1:9000\n",
      "INFO:lithops.localhost.v2.localhost:Localhost compute v2 client created\n",
      "INFO:flexecutor.workflow.executor:Executing DAG single-stage-dag\n",
      "INFO:flexecutor.workflow.executor:DAG single-stage-dag has 1 final stages\n",
      "2024-07-16 17:45:25 [INFO] Submitting stage TARGET-apply-calibration\n",
      "INFO:lithops.storage.backends.minio.minio:MinIO client created - Endpoint: http://172.17.0.1:9000\n",
      "INFO:lithops.storage.backends.minio.minio:MinIO client created - Endpoint: http://172.17.0.1:9000\n",
      "INFO:lithops.invokers:ExecutorID 4f0cbf-3 | JobID M000 - Selected Runtime: manriurv/astronomics-k8s:310 \n",
      "INFO:lithops.invokers:ExecutorID 4f0cbf-3 | JobID M000 - Starting function invocation: dp3() - Total: 1 activations\n",
      "INFO:lithops.invokers:ExecutorID 4f0cbf-3 | JobID M000 - View execution logs at /tmp/lithops-manri-urv/logs/4f0cbf-3-M000.log\n",
      "INFO:lithops.wait:ExecutorID 4f0cbf-3 - Waiting for 1 function activations to complete\n"
     ]
    },
    {
     "data": {
      "text/plain": [
       "    0%|          | 0/1  "
      ],
      "application/vnd.jupyter.widget-view+json": {
       "version_major": 2,
       "version_minor": 0,
       "model_id": "f64b7bea3ebd417da0af54dd901b39b2"
      }
     },
     "metadata": {},
     "output_type": "display_data"
    },
    {
     "name": "stderr",
     "output_type": "stream",
     "text": [
      "ERROR:lithops.localhost.v2.localhost:Task process 4f0cbf-3-M000-00000 failed with return code 137\n",
      "INFO:lithops.executors:ExecutorID 4f0cbf-3 - Cleaning temporary data\n",
      "INFO:lithops.executors:ExecutorID 4f0cbf-3 - Getting results from 1 function activations\n"
     ]
    },
    {
     "name": "stdout",
     "output_type": "stream",
     "text": [
      "[FunctionTimes(read=0.0978548526763916, compute=0.2704446315765381, write=0.0932319164276123, cold_start=0.7850160598754883, total=0.15384380022684732)]\n"
     ]
    }
   ],
   "execution_count": 7
  },
  {
   "metadata": {
    "ExecuteTime": {
     "end_time": "2024-07-16T15:46:05.382358Z",
     "start_time": "2024-07-16T15:45:48.768822Z"
    }
   },
   "cell_type": "code",
   "source": [
    "imaging_parameters = [\n",
    "    \"-size\",\n",
    "    \"1024\",\n",
    "    \"1024\",\n",
    "    \"-pol\",\n",
    "    \"I\",\n",
    "    \"-scale\",\n",
    "    \"5arcmin\",\n",
    "    \"-niter\",\n",
    "    \"100000\",\n",
    "    \"-gain\",\n",
    "    \"0.1\",\n",
    "    \"-mgain\",\n",
    "    \"0.6\",\n",
    "    \"-auto-mask\",\n",
    "    \"5\",\n",
    "    \"-local-rms\",\n",
    "    \"-multiscale\",\n",
    "    \"-no-update-model-required\",\n",
    "    \"-make-psf\",\n",
    "    \"-auto-threshold\",\n",
    "    \"3\",\n",
    "    \"-weight\",\n",
    "    \"briggs\",\n",
    "    \"0\",\n",
    "    \"-data-column\",\n",
    "    \"CORRECTED_DATA\",\n",
    "    \"-nmiter\",\n",
    "    \"0\",\n",
    "    \"-j\",\n",
    "    str(5),\n",
    "    \"-name\",\n",
    "]\n",
    "\n",
    "\n",
    "imaging_stage = Stage(\n",
    "    stage_id=\"imaging\",\n",
    "    func=imaging,\n",
    "    max_concurrency=1,\n",
    "    inputs=[\n",
    "        FlexInput(prefix=\"TAR/applycal_out/ms\", custom_input_id=\"imaging_input\")\n",
    "    ],\n",
    "    outputs=[\n",
    "        FlexOutput(prefix=\"image_out\", suffix=\"-image.fits\"),\n",
    "        FlexOutput(prefix=\"image_out/logs\", suffix=\".log\"),\n",
    "    ],\n",
    "    params={\n",
    "        \"parameters\": imaging_parameters,\n",
    "    },\n",
    ")\n",
    "\n",
    "print(imaging_stage.execute().get_timings())"
   ],
   "id": "397742f6ad2e7e95",
   "outputs": [
    {
     "name": "stderr",
     "output_type": "stream",
     "text": [
      "INFO:lithops.config:Lithops v3.4.1 - Python3.10\n",
      "INFO:lithops.storage.backends.minio.minio:MinIO client created - Endpoint: http://172.17.0.1:9000\n",
      "INFO:lithops.localhost.v2.localhost:Localhost compute v2 client created\n",
      "INFO:flexecutor.workflow.executor:Executing DAG single-stage-dag\n",
      "INFO:flexecutor.workflow.executor:DAG single-stage-dag has 1 final stages\n",
      "2024-07-16 17:45:48 [INFO] Submitting stage imaging\n",
      "INFO:lithops.storage.backends.minio.minio:MinIO client created - Endpoint: http://172.17.0.1:9000\n",
      "INFO:lithops.invokers:ExecutorID 4f0cbf-4 | JobID M000 - Selected Runtime: manriurv/astronomics-k8s:310 \n",
      "INFO:lithops.invokers:ExecutorID 4f0cbf-4 | JobID M000 - Starting function invocation: imaging() - Total: 1 activations\n",
      "INFO:lithops.invokers:ExecutorID 4f0cbf-4 | JobID M000 - View execution logs at /tmp/lithops-manri-urv/logs/4f0cbf-4-M000.log\n",
      "INFO:lithops.wait:ExecutorID 4f0cbf-4 - Waiting for 1 function activations to complete\n"
     ]
    },
    {
     "data": {
      "text/plain": [
       "    0%|          | 0/1  "
      ],
      "application/vnd.jupyter.widget-view+json": {
       "version_major": 2,
       "version_minor": 0,
       "model_id": "b0d3c60b37264b4fbc486b490281b728"
      }
     },
     "metadata": {},
     "output_type": "display_data"
    },
    {
     "name": "stderr",
     "output_type": "stream",
     "text": [
      "ERROR:lithops.localhost.v2.localhost:Task process 4f0cbf-4-M000-00000 failed with return code 137\n",
      "INFO:lithops.executors:ExecutorID 4f0cbf-4 - Cleaning temporary data\n",
      "INFO:lithops.executors:ExecutorID 4f0cbf-4 - Getting results from 1 function activations\n"
     ]
    },
    {
     "name": "stdout",
     "output_type": "stream",
     "text": [
      "[FunctionTimes(read=0.13083195686340332, compute=10.972547769546509, write=0.036598920822143555, cold_start=0.7566609382629395, total=3.7133262157440186)]\n"
     ]
    }
   ],
   "execution_count": 11
  },
  {
   "metadata": {},
   "cell_type": "code",
   "outputs": [],
   "execution_count": null,
   "source": "",
   "id": "2e0f0eb0194b4f33"
  }
 ],
 "metadata": {
  "kernelspec": {
   "display_name": "Python 3",
   "language": "python",
   "name": "python3"
  },
  "language_info": {
   "codemirror_mode": {
    "name": "ipython",
    "version": 2
   },
   "file_extension": ".py",
   "mimetype": "text/x-python",
   "name": "python",
   "nbconvert_exporter": "python",
   "pygments_lexer": "ipython2",
   "version": "2.7.6"
  }
 },
 "nbformat": 4,
 "nbformat_minor": 5
}
